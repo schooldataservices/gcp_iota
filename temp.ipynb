{
 "cells": [
  {
   "cell_type": "code",
   "execution_count": 30,
   "id": "fe3c09e7",
   "metadata": {},
   "outputs": [],
   "source": [
    "import pandas as pd\n",
    "\n",
    "df = pd.read_csv(r'S:\\SFTP\\test_scores\\iReady_ByYear_PriorYrs.csv')\n",
    "# df['met_typical'] = df['met_typical'].map({'True': True, 'False': False, None: False})\n",
    "# df['met_typical'] = df['met_typical'].astype(bool)\n",
    "\n",
    "\n",
    "# df[\"met_typical\"] = df[\"met_typical\"].astype(\"boolean\")\n",
    "# df.to_csv(r'S:\\SFTP\\test_scores\\iReady_ByYear_PriorYrs.csv', index=False)\n",
    "\n",
    "# temp = pd.read_csv(r'S:\\SFTP\\test_scores\\iReady_ByYear_PriorYrs.csv')"
   ]
  },
  {
   "cell_type": "code",
   "execution_count": 9,
   "id": "63e7dbad",
   "metadata": {},
   "outputs": [
    {
     "name": "stdout",
     "output_type": "stream",
     "text": [
      "test_scores\n",
      "\n",
      "\n",
      "Bucket test_scoresbucket-iotaschools-1 already exists.\n",
      "File diagnostic_results_ela_CONFIDENTIAL.csv in bucket test_scoresbucket-iotaschools-1 was overwritten by local file S:\\SFTP\\test_scores\\diagnostic_results_ela_CONFIDENTIAL.csv.\n",
      "File diagnostic_results_math_CONFIDENTIAL.csv in bucket test_scoresbucket-iotaschools-1 was overwritten by local file S:\\SFTP\\test_scores\\diagnostic_results_math_CONFIDENTIAL.csv.\n",
      "File iReady_ByTest_PriorYrs.csv in bucket test_scoresbucket-iotaschools-1 was overwritten by local file S:\\SFTP\\test_scores\\iReady_ByTest_PriorYrs.csv.\n",
      "File iReady_ByYear_PriorYrs.csv in bucket test_scoresbucket-iotaschools-1 was overwritten by local file S:\\SFTP\\test_scores\\iReady_ByYear_PriorYrs.csv.\n",
      "File iReady_goal_chart.csv in bucket test_scoresbucket-iotaschools-1 was overwritten by local file S:\\SFTP\\test_scores\\iReady_goal_chart.csv.\n",
      "File TDOE_SchoolAssessmentFile.csv in bucket test_scoresbucket-iotaschools-1 was overwritten by local file S:\\SFTP\\test_scores\\TDOE_SchoolAssessmentFile.csv.\n",
      "File TDOE_StudentLevelFiles.csv in bucket test_scoresbucket-iotaschools-1 was overwritten by local file S:\\SFTP\\test_scores\\TDOE_StudentLevelFiles.csv.\n",
      "File TVAAS_Composites_School.csv in bucket test_scoresbucket-iotaschools-1 was overwritten by local file S:\\SFTP\\test_scores\\TVAAS_Composites_School.csv.\n",
      "test_scoresbucket-iotaschools-1\n",
      "Table powerschool-420113.test_scores.TDOE_SchoolAssessmentFile already exists, argument is being called to REPLACE new data with incoming data\n",
      "Here is the BQ schema [{'name': 'year', 'type': 'INTEGER'}, {'name': 'system', 'type': 'INTEGER'}, {'name': 'system_name', 'type': 'STRING'}, {'name': 'school', 'type': 'INTEGER'}, {'name': 'school_name', 'type': 'STRING'}, {'name': 'test', 'type': 'STRING'}, {'name': 'subject', 'type': 'STRING'}, {'name': 'grade', 'type': 'STRING'}, {'name': 'student_group', 'type': 'STRING'}, {'name': 'participation_rate', 'type': 'FLOAT'}, {'name': 'enrolled', 'type': 'INTEGER'}, {'name': 'tested', 'type': 'INTEGER'}, {'name': 'valid_tests', 'type': 'INTEGER'}, {'name': 'n_below', 'type': 'INTEGER'}, {'name': 'n_approaching', 'type': 'INTEGER'}, {'name': 'n_met_expectations', 'type': 'INTEGER'}, {'name': 'n_exceeded_expectations', 'type': 'INTEGER'}, {'name': 'pct_below', 'type': 'FLOAT'}, {'name': 'pct_approaching', 'type': 'FLOAT'}, {'name': 'pct_met_expectations', 'type': 'FLOAT'}, {'name': 'pct_exceeded_expectations', 'type': 'FLOAT'}, {'name': 'pct_met_exceeded', 'type': 'FLOAT'}]\n",
      "Table powerschool-420113.test_scores.TDOE_StudentLevelFiles already exists, argument is being called to REPLACE new data with incoming data\n",
      "Here is the BQ schema [{'name': 'year', 'type': 'INTEGER'}, {'name': 'system', 'type': 'INTEGER'}, {'name': 'system_name', 'type': 'STRING'}, {'name': 'school', 'type': 'INTEGER'}, {'name': 'school_name', 'type': 'STRING'}, {'name': 'test', 'type': 'STRING'}, {'name': 'original_subject', 'type': 'STRING'}, {'name': 'subject', 'type': 'STRING'}, {'name': 'semester', 'type': 'STRING'}, {'name': 'original_performance_level', 'type': 'STRING'}, {'name': 'performance_level', 'type': 'STRING'}, {'name': 'scale_score', 'type': 'FLOAT'}, {'name': 'enrolled', 'type': 'INTEGER'}, {'name': 'tested', 'type': 'INTEGER'}, {'name': 'valid_test', 'type': 'INTEGER'}, {'name': 'student_key', 'type': 'INTEGER'}, {'name': 'last_name', 'type': 'STRING'}, {'name': 'first_name', 'type': 'STRING'}, {'name': 'grade', 'type': 'INTEGER'}, {'name': 'gender', 'type': 'STRING'}, {'name': 'reported_race', 'type': 'STRING'}, {'name': 'bhn_group', 'type': 'INTEGER'}, {'name': 'teacher_of_record_tln', 'type': 'FLOAT'}, {'name': 'functionally_delayed', 'type': 'FLOAT'}, {'name': 'special_ed', 'type': 'FLOAT'}, {'name': 'economically_disadvantaged', 'type': 'FLOAT'}, {'name': 'gifted', 'type': 'FLOAT'}, {'name': 'migrant', 'type': 'FLOAT'}, {'name': 'foster', 'type': 'FLOAT'}, {'name': 'homeless', 'type': 'FLOAT'}, {'name': 'military_connected', 'type': 'FLOAT'}, {'name': 'el', 'type': 'FLOAT'}, {'name': 't1234', 'type': 'INTEGER'}, {'name': 'el_w_t1234', 'type': 'FLOAT'}, {'name': 'el_recently_arrived', 'type': 'FLOAT'}, {'name': 'enrolled_50_pct_district', 'type': 'STRING'}, {'name': 'enrolled_50_pct_school', 'type': 'STRING'}, {'name': 'reason_not_tested', 'type': 'FLOAT'}, {'name': 'absent', 'type': 'INTEGER'}, {'name': 'ri_status', 'type': 'FLOAT'}, {'name': 'refused_to_test', 'type': 'FLOAT'}, {'name': 'residential_facility', 'type': 'FLOAT'}, {'name': 'percentile', 'type': 'FLOAT'}, {'name': 'acct_system', 'type': 'FLOAT'}, {'name': 'acct_school', 'type': 'FLOAT'}]\n",
      "Table powerschool-420113.test_scores.TVAAS_Composites_School already exists, argument is being called to REPLACE new data with incoming data\n",
      "Here is the BQ schema [{'name': 'Year', 'type': 'INTEGER'}, {'name': 'District Number', 'type': 'INTEGER'}, {'name': 'School Number', 'type': 'INTEGER'}, {'name': 'District Name', 'type': 'STRING'}, {'name': 'School Name', 'type': 'STRING'}, {'name': 'Schoolwide Composite', 'type': 'INTEGER'}, {'name': 'Schoolwide Literacy', 'type': 'INTEGER'}, {'name': 'Schoolwide Numeracy', 'type': 'INTEGER'}, {'name': 'Schoolwide Literacy and Numeracy', 'type': 'INTEGER'}, {'name': 'Schoolwide Science', 'type': 'FLOAT'}, {'name': 'Schoolwide Social Studies', 'type': 'FLOAT'}, {'name': 'Schoolwide Lowest 25 Pct', 'type': 'FLOAT'}]\n",
      "Table powerschool-420113.test_scores.diagnostic_results_ela_CONFIDENTIAL already exists, argument is being called to REPLACE new data with incoming data\n",
      "Here is the BQ schema [{'name': 'Last Name', 'type': 'STRING'}, {'name': 'First Name', 'type': 'STRING'}, {'name': 'Student ID', 'type': 'INTEGER'}, {'name': 'Student Grade', 'type': 'INTEGER'}, {'name': 'Academic Year', 'type': 'STRING'}, {'name': 'School', 'type': 'STRING'}, {'name': 'Enrolled', 'type': 'STRING'}, {'name': 'User Name', 'type': 'STRING'}, {'name': 'Sex', 'type': 'STRING'}, {'name': 'Hispanic or Latino', 'type': 'STRING'}, {'name': 'Race', 'type': 'STRING'}, {'name': 'English Language Learner', 'type': 'STRING'}, {'name': 'Special Education', 'type': 'STRING'}, {'name': 'Economically Disadvantaged', 'type': 'FLOAT'}, {'name': 'Migrant', 'type': 'FLOAT'}, {'name': 'Classes', 'type': 'STRING'}, {'name': 'Class Teachers', 'type': 'STRING'}, {'name': 'Report Groups', 'type': 'STRING'}, {'name': 'Start Date', 'type': 'STRING'}, {'name': 'Completion Date', 'type': 'STRING'}, {'name': 'Baseline Diagnostic YN', 'type': 'STRING'}, {'name': 'Most Recent Diagnostic YN', 'type': 'STRING'}, {'name': 'Duration min', 'type': 'INTEGER'}, {'name': 'Rush Flag', 'type': 'STRING'}, {'name': 'Read Aloud', 'type': 'STRING'}, {'name': 'Overall Scale Score', 'type': 'INTEGER'}, {'name': 'Overall Placement', 'type': 'STRING'}, {'name': 'Overall Relative Placement', 'type': 'STRING'}, {'name': 'Percentile', 'type': 'FLOAT'}, {'name': 'Grouping', 'type': 'FLOAT'}, {'name': 'Lexile Measure', 'type': 'STRING'}, {'name': 'Lexile Range', 'type': 'STRING'}, {'name': 'Phonological Awareness Scale Score', 'type': 'FLOAT'}, {'name': 'Phonological Awareness Placement', 'type': 'STRING'}, {'name': 'Phonological Awareness Relative Placement', 'type': 'STRING'}, {'name': 'Phonics Scale Score', 'type': 'FLOAT'}, {'name': 'Phonics Placement', 'type': 'STRING'}, {'name': 'Phonics Relative Placement', 'type': 'STRING'}, {'name': 'High-Frequency Words Scale Score', 'type': 'FLOAT'}, {'name': 'High-Frequency Words Placement', 'type': 'STRING'}, {'name': 'High-Frequency Words Relative Placement', 'type': 'STRING'}, {'name': 'Vocabulary Scale Score', 'type': 'INTEGER'}, {'name': 'Vocabulary Placement', 'type': 'STRING'}, {'name': 'Vocabulary Relative Placement', 'type': 'STRING'}, {'name': 'Comprehension Overall Scale Score', 'type': 'INTEGER'}, {'name': 'Comprehension Overall Placement', 'type': 'STRING'}, {'name': 'Comprehension Overall Relative Placement', 'type': 'STRING'}, {'name': 'Comprehension Literature Scale Score', 'type': 'INTEGER'}, {'name': 'Comprehension Literature Placement', 'type': 'STRING'}, {'name': 'Comprehension Literature Relative Placement', 'type': 'STRING'}, {'name': 'Comprehension Informational Text Scale Score', 'type': 'INTEGER'}, {'name': 'Comprehension Informational Text Placement', 'type': 'STRING'}, {'name': 'Comprehension Informational Text Relative Placement', 'type': 'STRING'}, {'name': 'Diagnostic Gain', 'type': 'FLOAT'}, {'name': 'Annual Typical Growth Measure', 'type': 'FLOAT'}, {'name': 'Annual Stretch Growth Measure', 'type': 'FLOAT'}, {'name': 'Percent Progress to Annual Typical Growth', 'type': 'FLOAT'}, {'name': 'Percent Progress to Annual Stretch Growth', 'type': 'FLOAT'}, {'name': 'Mid On Grade Level Scale Score', 'type': 'FLOAT'}, {'name': 'Reading Difficulty Indicator YN', 'type': 'STRING'}]\n",
      "Table powerschool-420113.test_scores.diagnostic_results_math_CONFIDENTIAL already exists, argument is being called to REPLACE new data with incoming data\n",
      "Here is the BQ schema [{'name': 'Last Name', 'type': 'STRING'}, {'name': 'First Name', 'type': 'STRING'}, {'name': 'Student ID', 'type': 'INTEGER'}, {'name': 'Student Grade', 'type': 'INTEGER'}, {'name': 'Academic Year', 'type': 'STRING'}, {'name': 'School', 'type': 'STRING'}, {'name': 'Enrolled', 'type': 'STRING'}, {'name': 'Start Date', 'type': 'STRING'}, {'name': 'Completion Date', 'type': 'STRING'}, {'name': 'Baseline Diagnostic YN', 'type': 'STRING'}, {'name': 'Most Recent Diagnostic YN', 'type': 'STRING'}, {'name': 'Duration min', 'type': 'INTEGER'}, {'name': 'Rush Flag', 'type': 'STRING'}, {'name': 'Read Aloud', 'type': 'STRING'}, {'name': 'Overall Scale Score', 'type': 'INTEGER'}, {'name': 'Overall Placement', 'type': 'STRING'}, {'name': 'Overall Relative Placement', 'type': 'STRING'}, {'name': 'Percentile', 'type': 'FLOAT'}, {'name': 'Grouping', 'type': 'FLOAT'}, {'name': 'Quantile Measure', 'type': 'STRING'}, {'name': 'Quantile Range', 'type': 'STRING'}, {'name': 'Number and Operations Scale Score', 'type': 'FLOAT'}, {'name': 'Number and Operations Placement', 'type': 'STRING'}, {'name': 'Number and Operations Relative Placement', 'type': 'STRING'}, {'name': 'Algebra and Algebraic Thinking Scale Score', 'type': 'INTEGER'}, {'name': 'Algebra and Algebraic Thinking Placement', 'type': 'STRING'}, {'name': 'Algebra and Algebraic Thinking Relative Placement', 'type': 'STRING'}, {'name': 'Measurement and Data Scale Score', 'type': 'FLOAT'}, {'name': 'Measurement and Data Placement', 'type': 'STRING'}, {'name': 'Measurement and Data Relative Placement', 'type': 'STRING'}, {'name': 'Geometry Scale Score', 'type': 'INTEGER'}, {'name': 'Geometry Placement', 'type': 'STRING'}, {'name': 'Geometry Relative Placement', 'type': 'STRING'}, {'name': 'Diagnostic Gain', 'type': 'FLOAT'}, {'name': 'Annual Typical Growth Measure', 'type': 'FLOAT'}, {'name': 'Annual Stretch Growth Measure', 'type': 'FLOAT'}, {'name': 'Percent Progress to Annual Typical Growth', 'type': 'FLOAT'}, {'name': 'Percent Progress to Annual Stretch Growth', 'type': 'FLOAT'}, {'name': 'Mid On Grade Level Scale Score', 'type': 'FLOAT'}]\n",
      "Table powerschool-420113.test_scores.iReady_ByTest_PriorYrs already exists, argument is being called to REPLACE new data with incoming data\n",
      "Here is the BQ schema [{'name': 'school_year', 'type': 'STRING'}, {'name': 'student_number', 'type': 'INTEGER'}, {'name': 'subject', 'type': 'STRING'}, {'name': 'school_name', 'type': 'STRING'}, {'name': 'grade_level', 'type': 'INTEGER'}, {'name': 'fall_winter_cohort', 'type': 'BOOLEAN'}, {'name': 'fall_spring_cohort', 'type': 'BOOLEAN'}, {'name': 'test_window', 'type': 'STRING'}, {'name': 'scale_score', 'type': 'INTEGER'}, {'name': 'placement', 'type': 'INTEGER'}, {'name': 'relative_placement', 'type': 'INTEGER'}]\n",
      "Table powerschool-420113.test_scores.iReady_ByYear_PriorYrs already exists, argument is being called to REPLACE new data with incoming data\n",
      "Here is the BQ schema [{'name': 'school_year', 'type': 'STRING'}, {'name': 'student_number', 'type': 'INTEGER'}, {'name': 'subject', 'type': 'STRING'}, {'name': 'school_name', 'type': 'STRING'}, {'name': 'grade_level', 'type': 'FLOAT'}, {'name': 'fall_test', 'type': 'BOOLEAN'}, {'name': 'winter_test', 'type': 'BOOLEAN'}, {'name': 'spring_test', 'type': 'BOOLEAN'}, {'name': 'fall_winter_cohort', 'type': 'BOOLEAN'}, {'name': 'fall_spring_cohort', 'type': 'BOOLEAN'}, {'name': 'fall_scale_score', 'type': 'FLOAT'}, {'name': 'fall_placement', 'type': 'FLOAT'}, {'name': 'fall_relative', 'type': 'FLOAT'}, {'name': 'winter_scale_score', 'type': 'FLOAT'}, {'name': 'winter_placement', 'type': 'FLOAT'}, {'name': 'winter_relative', 'type': 'FLOAT'}, {'name': 'spring_scale_score', 'type': 'FLOAT'}, {'name': 'spring_placement', 'type': 'FLOAT'}, {'name': 'spring_relative', 'type': 'FLOAT'}, {'name': 'adj_growth_first_last', 'type': 'INTEGER'}, {'name': 'typical_goal', 'type': 'FLOAT'}, {'name': 'stretch_goal', 'type': 'FLOAT'}, {'name': 'met_typical', 'type': 'STRING'}, {'name': 'met_stretch', 'type': 'STRING'}, {'name': 'percent_of_typical', 'type': 'FLOAT'}, {'name': 'percent_of_stretch', 'type': 'FLOAT'}]\n",
      "Table powerschool-420113.test_scores.iReady_goal_chart already exists, argument is being called to REPLACE new data with incoming data\n",
      "Here is the BQ schema [{'name': 'subject', 'type': 'STRING'}, {'name': 'testgradelevel', 'type': 'INTEGER'}, {'name': 'placement', 'type': 'STRING'}, {'name': 'placement_integer', 'type': 'INTEGER'}, {'name': 'relative_placement', 'type': 'STRING'}, {'name': 'typical_growth', 'type': 'INTEGER'}, {'name': 'stretch_growth', 'type': 'INTEGER'}]\n"
     ]
    }
   ],
   "source": [
    "# from add_parent_to_sys_path import add_parent_to_sys_path\n",
    "# add_parent_to_sys_path()\n",
    "import pysftp\n",
    "import os\n",
    "import pandas_gbq\n",
    "import pandas as pd\n",
    "from modules.buckets import *\n",
    "from modules.reproducibility import *\n",
    "from modules.stacking_bluff_asd import *\n",
    "from modules.sftp_ops import *\n",
    "import logging\n",
    "\n",
    "clear_logging_handlers()\n",
    "\n",
    "#Configure loggging\n",
    "logging.basicConfig(filename='../logs/MiscBigQuery.log', level=logging.INFO,\n",
    "                   format='%(asctime)s - %(message)s', datefmt='%d-%b-%y %H:%M:%S', force=True)\n",
    "logging.info('\\n\\n-------------New Misc Big Query Logging Instance')\n",
    "\n",
    "# Set the GOOGLE_APPLICATION_CREDENTIALS environment variable in order to interact, import the SFTP password from the same file\n",
    "os.environ[\"GOOGLE_APPLICATION_CREDENTIALS\"] = r'C:\\Users\\amy.hardy\\Desktop\\Python_Scripts\\Google_Cloud\\powerschool-420113-db919282054b.json'\n",
    "    \n",
    "# ----------------------------------------------------------\n",
    "#Need to make this portion to where it assesses all files in the dir recursively. \n",
    "def main(SFTP_folder_name):\n",
    "\n",
    "    SFTP_folder_name  = initial_schema_check(SFTP_folder_name)\n",
    "    print(SFTP_folder_name)\n",
    "\n",
    "    instance = Create(\n",
    "                project_id='powerschool-420113',\n",
    "                location = 'us-central1',\n",
    "                bucket=f'{SFTP_folder_name}bucket-iotaschools-1',\n",
    "                local_dir = fr'S:\\SFTP\\{SFTP_folder_name}',\n",
    "                db = SFTP_folder_name,\n",
    "                append_or_replace='replace',\n",
    "                )\n",
    "    \n",
    "    instance.process()# Pass SFTP files into Bucket & then into Big Query tables\n",
    "\n",
    "# main(\"misc_imports\")\n",
    "# main(\"EIS\")\n",
    "main(\"test_scores\")\n",
    "logging.info('Process has reached the end\\n\\n')\n"
   ]
  }
 ],
 "metadata": {
  "kernelspec": {
   "display_name": "Python 3",
   "language": "python",
   "name": "python3"
  },
  "language_info": {
   "codemirror_mode": {
    "name": "ipython",
    "version": 3
   },
   "file_extension": ".py",
   "mimetype": "text/x-python",
   "name": "python",
   "nbconvert_exporter": "python",
   "pygments_lexer": "ipython3",
   "version": "3.12.3"
  }
 },
 "nbformat": 4,
 "nbformat_minor": 5
}
